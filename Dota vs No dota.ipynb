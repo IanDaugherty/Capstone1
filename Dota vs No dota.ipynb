{
 "cells": [
  {
   "cell_type": "code",
   "execution_count": 17,
   "metadata": {},
   "outputs": [],
   "source": [
    "import scipy.stats as stats\n",
    "import matplotlib.pyplot as plt\n",
    "from sklearn.linear_model import LinearRegression\n",
    "from sklearn.pipeline import Pipeline"
   ]
  },
  {
   "cell_type": "code",
   "execution_count": 18,
   "metadata": {},
   "outputs": [],
   "source": [
    "run main.py"
   ]
  },
  {
   "cell_type": "code",
   "execution_count": 19,
   "metadata": {},
   "outputs": [
    {
     "data": {
      "text/html": [
       "<div>\n",
       "<style scoped>\n",
       "    .dataframe tbody tr th:only-of-type {\n",
       "        vertical-align: middle;\n",
       "    }\n",
       "\n",
       "    .dataframe tbody tr th {\n",
       "        vertical-align: top;\n",
       "    }\n",
       "\n",
       "    .dataframe thead th {\n",
       "        text-align: right;\n",
       "    }\n",
       "</style>\n",
       "<table border=\"1\" class=\"dataframe\">\n",
       "  <thead>\n",
       "    <tr style=\"text-align: right;\">\n",
       "      <th></th>\n",
       "      <th>userid</th>\n",
       "      <th>game</th>\n",
       "      <th>own</th>\n",
       "      <th>playtime</th>\n",
       "      <th>0</th>\n",
       "    </tr>\n",
       "  </thead>\n",
       "  <tbody>\n",
       "    <tr>\n",
       "      <th>0</th>\n",
       "      <td>151603712</td>\n",
       "      <td>The Elder Scrolls V Skyrim</td>\n",
       "      <td>play</td>\n",
       "      <td>273</td>\n",
       "      <td>0.0</td>\n",
       "    </tr>\n",
       "    <tr>\n",
       "      <th>1</th>\n",
       "      <td>151603712</td>\n",
       "      <td>Fallout 4</td>\n",
       "      <td>purchase</td>\n",
       "      <td>1</td>\n",
       "      <td>0.0</td>\n",
       "    </tr>\n",
       "    <tr>\n",
       "      <th>2</th>\n",
       "      <td>151603712</td>\n",
       "      <td>Fallout 4</td>\n",
       "      <td>play</td>\n",
       "      <td>87</td>\n",
       "      <td>0.0</td>\n",
       "    </tr>\n",
       "    <tr>\n",
       "      <th>3</th>\n",
       "      <td>151603712</td>\n",
       "      <td>Spore</td>\n",
       "      <td>purchase</td>\n",
       "      <td>1</td>\n",
       "      <td>0.0</td>\n",
       "    </tr>\n",
       "    <tr>\n",
       "      <th>4</th>\n",
       "      <td>151603712</td>\n",
       "      <td>Spore</td>\n",
       "      <td>play</td>\n",
       "      <td>14.9</td>\n",
       "      <td>0.0</td>\n",
       "    </tr>\n",
       "    <tr>\n",
       "      <th>...</th>\n",
       "      <td>...</td>\n",
       "      <td>...</td>\n",
       "      <td>...</td>\n",
       "      <td>...</td>\n",
       "      <td>...</td>\n",
       "    </tr>\n",
       "    <tr>\n",
       "      <th>199995</th>\n",
       "      <td>128470551</td>\n",
       "      <td>Grand Theft Auto Vice City</td>\n",
       "      <td>purchase</td>\n",
       "      <td>1</td>\n",
       "      <td>0.0</td>\n",
       "    </tr>\n",
       "    <tr>\n",
       "      <th>199996</th>\n",
       "      <td>128470551</td>\n",
       "      <td>Grand Theft Auto Vice City</td>\n",
       "      <td>play</td>\n",
       "      <td>1.5</td>\n",
       "      <td>0.0</td>\n",
       "    </tr>\n",
       "    <tr>\n",
       "      <th>199997</th>\n",
       "      <td>128470551</td>\n",
       "      <td>RUSH</td>\n",
       "      <td>purchase</td>\n",
       "      <td>1</td>\n",
       "      <td>0.0</td>\n",
       "    </tr>\n",
       "    <tr>\n",
       "      <th>199998</th>\n",
       "      <td>128470551</td>\n",
       "      <td>RUSH</td>\n",
       "      <td>play</td>\n",
       "      <td>1.4</td>\n",
       "      <td>0.0</td>\n",
       "    </tr>\n",
       "    <tr>\n",
       "      <th>199999</th>\n",
       "      <td>151603712</td>\n",
       "      <td>The Elder Scrolls V Skyrim</td>\n",
       "      <td>purchase</td>\n",
       "      <td>1.0</td>\n",
       "      <td>NaN</td>\n",
       "    </tr>\n",
       "  </tbody>\n",
       "</table>\n",
       "<p>200000 rows × 5 columns</p>\n",
       "</div>"
      ],
      "text/plain": [
       "           userid                        game       own playtime    0\n",
       "0       151603712  The Elder Scrolls V Skyrim      play      273  0.0\n",
       "1       151603712                   Fallout 4  purchase        1  0.0\n",
       "2       151603712                   Fallout 4      play       87  0.0\n",
       "3       151603712                       Spore  purchase        1  0.0\n",
       "4       151603712                       Spore      play     14.9  0.0\n",
       "...           ...                         ...       ...      ...  ...\n",
       "199995  128470551  Grand Theft Auto Vice City  purchase        1  0.0\n",
       "199996  128470551  Grand Theft Auto Vice City      play      1.5  0.0\n",
       "199997  128470551                        RUSH  purchase        1  0.0\n",
       "199998  128470551                        RUSH      play      1.4  0.0\n",
       "199999  151603712  The Elder Scrolls V Skyrim  purchase      1.0  NaN\n",
       "\n",
       "[200000 rows x 5 columns]"
      ]
     },
     "execution_count": 19,
     "metadata": {},
     "output_type": "execute_result"
    }
   ],
   "source": [
    "steam = read_to_pandas(steam_path)\n",
    "steam = steam.append({'151603712':'151603712','The Elder Scrolls V Skyrim':'The Elder Scrolls V Skyrim','purchase':'purchase','1.0':'1.0'}, ignore_index = True)\n",
    "steam = steam.rename(columns = {\"151603712\":\"userid\", \"The Elder Scrolls V Skyrim\":\"game\", \"purchase\":\"own\", \"1.0\":\"playtime\"})\n",
    "steam"
   ]
  },
  {
   "cell_type": "code",
   "execution_count": 20,
   "metadata": {},
   "outputs": [],
   "source": [
    "dota_owners = steam[(steam['game'] == \"Dota 2\")]['userid'].unique()\n",
    "no_dota = steam[(steam['game'] != \"Dota 2\")]"
   ]
  },
  {
   "cell_type": "code",
   "execution_count": 21,
   "metadata": {},
   "outputs": [],
   "source": [
    "ownsdota = steam[steam['userid'].isin(dota_owners)]\n",
    "no_dota = steam[~steam['userid'].isin(dota_owners)]"
   ]
  },
  {
   "cell_type": "code",
   "execution_count": 22,
   "metadata": {},
   "outputs": [],
   "source": [
    "duser_purchasecount = ownsdota[ownsdota['own'] == 'purchase'].groupby('userid').count()\n",
    "duser_playtime = ownsdota[ownsdota['own'] == 'play'].groupby('userid')['playtime'].sum()\n",
    "\n",
    "dota_users = duser_purchasecount.merge(duser_playtime, on = 'userid')"
   ]
  },
  {
   "cell_type": "code",
   "execution_count": 23,
   "metadata": {},
   "outputs": [],
   "source": [
    "no_duser_purchasecount = no_dota[no_dota['own'] == 'purchase'].groupby('userid').count()\n",
    "no_duser_playtime = no_dota[no_dota['own'] == 'play'].groupby('userid')['playtime'].sum()\n",
    "\n",
    "no_dota_users = no_duser_purchasecount.merge(no_duser_playtime, on = 'userid')"
   ]
  },
  {
   "cell_type": "code",
   "execution_count": 24,
   "metadata": {},
   "outputs": [
    {
     "name": "stdout",
     "output_type": "stream",
     "text": [
      "           game  own  playtime_x   0  playtime_y\n",
      "userid                                          \n",
      "76767        36   36          36  36      1227.0\n",
      "86540        82   82          82  82       255.0\n",
      "144736        8    8           8   8         0.1\n",
      "181212       12   12          12  12         2.2\n",
      "229911       27   27          27  27       390.5\n",
      "...         ...  ...         ...  ..         ...\n",
      "309262440     3    3           3   3         1.2\n",
      "309265377     2    2           2   2         2.8\n",
      "309404240     5    5           5   5        18.4\n",
      "309554670     1    1           1   1         5.9\n",
      "309626088     1    1           1   1         6.7\n",
      "\n",
      "[6509 rows x 5 columns]\n",
      "           game  own  playtime_x    0  playtime_y\n",
      "userid                                           \n",
      "5250         21   21          21   21       225.5\n",
      "298950      259  259         259  259      3745.4\n",
      "975449      378  378         378  378      2165.0\n",
      "994489       23   23          23   23      1396.2\n",
      "1612666      28   28          28   28       167.1\n",
      "...         ...  ...         ...  ...         ...\n",
      "309216884     1    1           1    1         4.0\n",
      "309228590     1    1           1    1         0.3\n",
      "309434439     1    1           1    1         0.8\n",
      "309824202     1    1           1    1         0.7\n",
      "309903146     1    1           1    1         0.2\n",
      "\n",
      "[4841 rows x 5 columns]\n"
     ]
    }
   ],
   "source": [
    "print(no_dota_users)\n",
    "print(dota_users)\n"
   ]
  },
  {
   "cell_type": "code",
   "execution_count": 25,
   "metadata": {},
   "outputs": [
    {
     "data": {
      "text/html": [
       "<div>\n",
       "<style scoped>\n",
       "    .dataframe tbody tr th:only-of-type {\n",
       "        vertical-align: middle;\n",
       "    }\n",
       "\n",
       "    .dataframe tbody tr th {\n",
       "        vertical-align: top;\n",
       "    }\n",
       "\n",
       "    .dataframe thead th {\n",
       "        text-align: right;\n",
       "    }\n",
       "</style>\n",
       "<table border=\"1\" class=\"dataframe\">\n",
       "  <thead>\n",
       "    <tr style=\"text-align: right;\">\n",
       "      <th></th>\n",
       "      <th>game</th>\n",
       "      <th>own</th>\n",
       "      <th>playtime_x</th>\n",
       "      <th>0</th>\n",
       "      <th>playtime_y</th>\n",
       "      <th>playtime</th>\n",
       "    </tr>\n",
       "    <tr>\n",
       "      <th>userid</th>\n",
       "      <th></th>\n",
       "      <th></th>\n",
       "      <th></th>\n",
       "      <th></th>\n",
       "      <th></th>\n",
       "      <th></th>\n",
       "    </tr>\n",
       "  </thead>\n",
       "  <tbody>\n",
       "    <tr>\n",
       "      <th>76767</th>\n",
       "      <td>36</td>\n",
       "      <td>36</td>\n",
       "      <td>36</td>\n",
       "      <td>36</td>\n",
       "      <td>1227.0</td>\n",
       "      <td>20</td>\n",
       "    </tr>\n",
       "    <tr>\n",
       "      <th>86540</th>\n",
       "      <td>82</td>\n",
       "      <td>82</td>\n",
       "      <td>82</td>\n",
       "      <td>82</td>\n",
       "      <td>255.0</td>\n",
       "      <td>15</td>\n",
       "    </tr>\n",
       "    <tr>\n",
       "      <th>144736</th>\n",
       "      <td>8</td>\n",
       "      <td>8</td>\n",
       "      <td>8</td>\n",
       "      <td>8</td>\n",
       "      <td>0.1</td>\n",
       "      <td>1</td>\n",
       "    </tr>\n",
       "    <tr>\n",
       "      <th>181212</th>\n",
       "      <td>12</td>\n",
       "      <td>12</td>\n",
       "      <td>12</td>\n",
       "      <td>12</td>\n",
       "      <td>2.2</td>\n",
       "      <td>2</td>\n",
       "    </tr>\n",
       "    <tr>\n",
       "      <th>229911</th>\n",
       "      <td>27</td>\n",
       "      <td>27</td>\n",
       "      <td>27</td>\n",
       "      <td>27</td>\n",
       "      <td>390.5</td>\n",
       "      <td>18</td>\n",
       "    </tr>\n",
       "    <tr>\n",
       "      <th>...</th>\n",
       "      <td>...</td>\n",
       "      <td>...</td>\n",
       "      <td>...</td>\n",
       "      <td>...</td>\n",
       "      <td>...</td>\n",
       "      <td>...</td>\n",
       "    </tr>\n",
       "    <tr>\n",
       "      <th>309262440</th>\n",
       "      <td>3</td>\n",
       "      <td>3</td>\n",
       "      <td>3</td>\n",
       "      <td>3</td>\n",
       "      <td>1.2</td>\n",
       "      <td>1</td>\n",
       "    </tr>\n",
       "    <tr>\n",
       "      <th>309265377</th>\n",
       "      <td>2</td>\n",
       "      <td>2</td>\n",
       "      <td>2</td>\n",
       "      <td>2</td>\n",
       "      <td>2.8</td>\n",
       "      <td>2</td>\n",
       "    </tr>\n",
       "    <tr>\n",
       "      <th>309404240</th>\n",
       "      <td>5</td>\n",
       "      <td>5</td>\n",
       "      <td>5</td>\n",
       "      <td>5</td>\n",
       "      <td>18.4</td>\n",
       "      <td>5</td>\n",
       "    </tr>\n",
       "    <tr>\n",
       "      <th>309554670</th>\n",
       "      <td>1</td>\n",
       "      <td>1</td>\n",
       "      <td>1</td>\n",
       "      <td>1</td>\n",
       "      <td>5.9</td>\n",
       "      <td>1</td>\n",
       "    </tr>\n",
       "    <tr>\n",
       "      <th>309626088</th>\n",
       "      <td>1</td>\n",
       "      <td>1</td>\n",
       "      <td>1</td>\n",
       "      <td>1</td>\n",
       "      <td>6.7</td>\n",
       "      <td>1</td>\n",
       "    </tr>\n",
       "  </tbody>\n",
       "</table>\n",
       "<p>6509 rows × 6 columns</p>\n",
       "</div>"
      ],
      "text/plain": [
       "           game  own  playtime_x   0  playtime_y  playtime\n",
       "userid                                                    \n",
       "76767        36   36          36  36      1227.0        20\n",
       "86540        82   82          82  82       255.0        15\n",
       "144736        8    8           8   8         0.1         1\n",
       "181212       12   12          12  12         2.2         2\n",
       "229911       27   27          27  27       390.5        18\n",
       "...         ...  ...         ...  ..         ...       ...\n",
       "309262440     3    3           3   3         1.2         1\n",
       "309265377     2    2           2   2         2.8         2\n",
       "309404240     5    5           5   5        18.4         5\n",
       "309554670     1    1           1   1         5.9         1\n",
       "309626088     1    1           1   1         6.7         1\n",
       "\n",
       "[6509 rows x 6 columns]"
      ]
     },
     "execution_count": 25,
     "metadata": {},
     "output_type": "execute_result"
    }
   ],
   "source": [
    "played = steam[steam['own'] == 'play'].groupby('userid').count()\n",
    "\n",
    "no_dota_users = no_dota_users.merge(played['playtime'], on='userid')\n",
    "dota_users = dota_users.merge(played['playtime'], on='userid')\n",
    "\n",
    "\n",
    "# no_dota_users['opratio'] = (no_dota_users['own']/no_dota_users['playtime']).round()\n",
    "# dota_users['opratio'] = (dota_users['own']/dota_users['playtime']).round()\n",
    "\n",
    "no_dota_users\n",
    "\n"
   ]
  },
  {
   "cell_type": "code",
   "execution_count": 26,
   "metadata": {},
   "outputs": [],
   "source": [
    "dota_users = dota_users.rename(columns={'own':'Games Owned', 'playtime_y':'Total Time Played', 'playtime':'Games Played'})\n",
    "no_dota_users = no_dota_users.rename(columns={'own':'Games Owned', 'playtime_y':'Total Time Played', 'playtime':'Games Played'})"
   ]
  },
  {
   "cell_type": "code",
   "execution_count": 27,
   "metadata": {},
   "outputs": [
    {
     "name": "stdout",
     "output_type": "stream",
     "text": [
      "Non-Dota 2 user summary:\n"
     ]
    },
    {
     "data": {
      "text/html": [
       "<div>\n",
       "<style scoped>\n",
       "    .dataframe tbody tr th:only-of-type {\n",
       "        vertical-align: middle;\n",
       "    }\n",
       "\n",
       "    .dataframe tbody tr th {\n",
       "        vertical-align: top;\n",
       "    }\n",
       "\n",
       "    .dataframe thead th {\n",
       "        text-align: right;\n",
       "    }\n",
       "</style>\n",
       "<table border=\"1\" class=\"dataframe\">\n",
       "  <thead>\n",
       "    <tr style=\"text-align: right;\">\n",
       "      <th></th>\n",
       "      <th>Games Owned</th>\n",
       "      <th>Games Played</th>\n",
       "      <th>Total Time Played</th>\n",
       "    </tr>\n",
       "    <tr>\n",
       "      <th>userid</th>\n",
       "      <th></th>\n",
       "      <th></th>\n",
       "      <th></th>\n",
       "    </tr>\n",
       "  </thead>\n",
       "  <tbody>\n",
       "    <tr>\n",
       "      <th>76767</th>\n",
       "      <td>36</td>\n",
       "      <td>20</td>\n",
       "      <td>1227.0</td>\n",
       "    </tr>\n",
       "    <tr>\n",
       "      <th>86540</th>\n",
       "      <td>82</td>\n",
       "      <td>15</td>\n",
       "      <td>255.0</td>\n",
       "    </tr>\n",
       "    <tr>\n",
       "      <th>144736</th>\n",
       "      <td>8</td>\n",
       "      <td>1</td>\n",
       "      <td>0.1</td>\n",
       "    </tr>\n",
       "    <tr>\n",
       "      <th>181212</th>\n",
       "      <td>12</td>\n",
       "      <td>2</td>\n",
       "      <td>2.2</td>\n",
       "    </tr>\n",
       "    <tr>\n",
       "      <th>229911</th>\n",
       "      <td>27</td>\n",
       "      <td>18</td>\n",
       "      <td>390.5</td>\n",
       "    </tr>\n",
       "    <tr>\n",
       "      <th>...</th>\n",
       "      <td>...</td>\n",
       "      <td>...</td>\n",
       "      <td>...</td>\n",
       "    </tr>\n",
       "    <tr>\n",
       "      <th>309262440</th>\n",
       "      <td>3</td>\n",
       "      <td>1</td>\n",
       "      <td>1.2</td>\n",
       "    </tr>\n",
       "    <tr>\n",
       "      <th>309265377</th>\n",
       "      <td>2</td>\n",
       "      <td>2</td>\n",
       "      <td>2.8</td>\n",
       "    </tr>\n",
       "    <tr>\n",
       "      <th>309404240</th>\n",
       "      <td>5</td>\n",
       "      <td>5</td>\n",
       "      <td>18.4</td>\n",
       "    </tr>\n",
       "    <tr>\n",
       "      <th>309554670</th>\n",
       "      <td>1</td>\n",
       "      <td>1</td>\n",
       "      <td>5.9</td>\n",
       "    </tr>\n",
       "    <tr>\n",
       "      <th>309626088</th>\n",
       "      <td>1</td>\n",
       "      <td>1</td>\n",
       "      <td>6.7</td>\n",
       "    </tr>\n",
       "  </tbody>\n",
       "</table>\n",
       "<p>6509 rows × 3 columns</p>\n",
       "</div>"
      ],
      "text/plain": [
       "           Games Owned  Games Played  Total Time Played\n",
       "userid                                                 \n",
       "76767               36            20             1227.0\n",
       "86540               82            15              255.0\n",
       "144736               8             1                0.1\n",
       "181212              12             2                2.2\n",
       "229911              27            18              390.5\n",
       "...                ...           ...                ...\n",
       "309262440            3             1                1.2\n",
       "309265377            2             2                2.8\n",
       "309404240            5             5               18.4\n",
       "309554670            1             1                5.9\n",
       "309626088            1             1                6.7\n",
       "\n",
       "[6509 rows x 3 columns]"
      ]
     },
     "execution_count": 27,
     "metadata": {},
     "output_type": "execute_result"
    }
   ],
   "source": [
    "print(\"Non-Dota 2 user summary:\")\n",
    "no_dota_users[['Games Owned', 'Games Played', 'Total Time Played']]\n",
    "# dota_users[['Games Owned', 'Games Played', 'Total Time Played']]"
   ]
  },
  {
   "cell_type": "code",
   "execution_count": 28,
   "metadata": {},
   "outputs": [],
   "source": [
    "dota_users['O/P Ratio'] = dota_users['Games Owned'] / dota_users['Games Played']\n",
    "no_dota_users['O/P Ratio'] = no_dota_users['Games Owned'] / no_dota_users['Games Played']"
   ]
  },
  {
   "cell_type": "code",
   "execution_count": 29,
   "metadata": {},
   "outputs": [
    {
     "name": "stdout",
     "output_type": "stream",
     "text": [
      "       Games Owned  Games Played    O/P Ratio  Total Time Played\n",
      "count  6509.000000   6509.000000  6509.000000        6509.000000\n",
      "mean     10.078046      5.548471     1.824001         236.774727\n",
      "std      29.914518     13.355834     1.835974         650.084033\n",
      "min       1.000000      1.000000     1.000000           0.100000\n",
      "25%       1.000000      1.000000     1.000000           2.900000\n",
      "50%       3.000000      2.000000     1.083333          22.000000\n",
      "75%       7.000000      4.000000     2.000000         153.800000\n",
      "max     766.000000    208.000000    59.000000       11754.000000\n",
      "\n",
      "       Games Owned  Games Played    O/P Ratio  Total Time Played\n",
      "count  4841.000000   4841.000000  4841.000000        4841.000000\n",
      "mean     12.662673      7.100599     1.627358         393.348296\n",
      "std      45.468548     22.321653     2.509191         937.763340\n",
      "min       1.000000      1.000000     1.000000           0.100000\n",
      "25%       1.000000      1.000000     1.000000           1.800000\n",
      "50%       1.000000      1.000000     1.000000          15.500000\n",
      "75%       5.000000      2.000000     1.454545         288.000000\n",
      "max    1075.000000    498.000000   107.000000       11651.700000\n"
     ]
    }
   ],
   "source": [
    "print(no_dota_users[['Games Owned', 'Games Played', 'O/P Ratio', 'Total Time Played']].describe())\n",
    "print()\n",
    "print(dota_users[['Games Owned', 'Games Played', 'O/P Ratio', 'Total Time Played']].describe())"
   ]
  },
  {
   "cell_type": "code",
   "execution_count": 30,
   "metadata": {},
   "outputs": [],
   "source": [
    "def bootstrap_diff(samp1, samp2):\n",
    "    bootstrap_diff = []\n",
    "    for i in range(0, 50000):\n",
    "        bootstrap1 = np.random.choice(samp1, size=len(samp1), replace=True)\n",
    "        bootstrap2 = np.random.choice(samp2, size=len(samp2), replace=True)\n",
    "        bootstrap_diff.append(np.mean(bootstrap1)-np.mean(bootstrap2))\n",
    "    return bootstrap_diff\n"
   ]
  },
  {
   "cell_type": "code",
   "execution_count": 31,
   "metadata": {},
   "outputs": [],
   "source": [
    "dotaOP = dota_users['O/P Ratio']\n",
    "no_dotaOP = no_dota_users['O/P Ratio']\n",
    "\n",
    "OP_bootstrap = bootstrap_diff(dotaOP, no_dotaOP)\n"
   ]
  },
  {
   "cell_type": "code",
   "execution_count": 32,
   "metadata": {},
   "outputs": [],
   "source": [
    "dotaOP = dota_users['Games Owned']\n",
    "no_dotaOP = no_dota_users['Games Owned']\n",
    "\n",
    "owned_bootstrap = bootstrap_diff(dotaOP, no_dotaOP)\n"
   ]
  },
  {
   "cell_type": "code",
   "execution_count": 33,
   "metadata": {},
   "outputs": [],
   "source": [
    "dotaOP = dota_users['Games Played']\n",
    "no_dotaOP = no_dota_users['Games Played']\n",
    "\n",
    "played_bootstrap = bootstrap_diff(dotaOP, no_dotaOP)\n"
   ]
  },
  {
   "cell_type": "code",
   "execution_count": 34,
   "metadata": {},
   "outputs": [
    {
     "data": {
      "text/plain": [
       "array([126.16275681, 187.46067388])"
      ]
     },
     "execution_count": 34,
     "metadata": {},
     "output_type": "execute_result"
    }
   ],
   "source": [
    "dotaOP = dota_users['Total Time Played']\n",
    "no_dotaOP = no_dota_users['Total Time Played']\n",
    "\n",
    "playtime_bootstrap = bootstrap_diff(dotaOP, no_dotaOP)\n",
    "\n",
    "np.percentile(playtime_bootstrap,[2.5, 97.5])"
   ]
  },
  {
   "cell_type": "code",
   "execution_count": 35,
   "metadata": {},
   "outputs": [
    {
     "data": {
      "text/plain": [
       "[2.59, 1.55, 156.53, -0.2]"
      ]
     },
     "execution_count": 35,
     "metadata": {},
     "output_type": "execute_result"
    }
   ],
   "source": [
    "perc = []\n",
    "\n",
    "perc.append(np.percentile(owned_bootstrap,[2.5, 97.5]))\n",
    "perc.append(np.percentile(played_bootstrap,[2.5, 97.5]))\n",
    "perc.append(np.percentile(playtime_bootstrap,[2.5, 97.5]))\n",
    "perc.append(np.percentile(OP_bootstrap,[2.5, 97.5]))\n",
    "\n",
    "means = []\n",
    "means.append(round(np.mean(owned_bootstrap),2))\n",
    "means.append(round(np.mean(played_bootstrap),2))\n",
    "means.append(round(np.mean(playtime_bootstrap),2))\n",
    "means.append(round(np.mean(OP_bootstrap), 2))\n",
    "means"
   ]
  },
  {
   "cell_type": "code",
   "execution_count": null,
   "metadata": {},
   "outputs": [],
   "source": []
  },
  {
   "cell_type": "code",
   "execution_count": 38,
   "metadata": {},
   "outputs": [
    {
     "data": {
      "text/plain": [
       "<matplotlib.legend.Legend at 0x7f149e3f7700>"
      ]
     },
     "execution_count": 38,
     "metadata": {},
     "output_type": "execute_result"
    },
    {
     "data": {
      "image/png": "[encoded data removed]",
      "text/plain": [
       "<Figure size 720x720 with 4 Axes>"
      ]
     },
     "metadata": {
      "needs_background": "light"
     },
     "output_type": "display_data"
    }
   ],
   "source": [
    "fig, axs = plt.subplots(4, figsize = (10,10))\n",
    "\n",
    "fig.tight_layout(pad = 5)\n",
    "plt.setp(axs[0].get_xticklabels(), fontsize=16)\n",
    "plt.setp(axs[1].get_xticklabels(), fontsize=16)\n",
    "plt.setp(axs[2].get_xticklabels(), fontsize=16)\n",
    "plt.setp(axs[3].get_xticklabels(), fontsize=16)\n",
    "\n",
    "axs[0].hist(owned_bootstrap, bins = 100)\n",
    "axs[0].set_title(f\"Dota 2 users own {means[0]} more games than non-Dota 2 users\", fontsize = 15)\n",
    "axs[0].axvline(perc[0][0], color='orange', alpha = 1)\n",
    "axs[0].axvline(perc[0][1], color='red', alpha = 1)\n",
    "axs[0].set_xlabel(\"Difference in mean games owned per user\")\n",
    "axs[0].legend(('2.5%', '97.5%'))\n",
    "\n",
    "\n",
    "axs[1].hist(played_bootstrap, bins = 100)\n",
    "axs[1].set_title(f\"Dota 2 users played {means[1]} more unique games than non-Dota 2 users\", fontsize = 15)\n",
    "axs[1].axvline(perc[1][0], color='orange', alpha = 1)\n",
    "axs[1].axvline(perc[1][1], color='red', alpha = 1)\n",
    "axs[1].set_xlabel(\"Difference in mean games played per user\")\n",
    "axs[1].legend(('2.5%', '97.5%'))\n",
    " \n",
    "axs[2].hist(playtime_bootstrap, bins = 100)\n",
    "axs[2].set_title(f\"Dota 2 users played {means[2]} more hours of all video games than non-Dota 2 users\", fontsize = 15)\n",
    "axs[2].axvline(perc[2][0], color='orange', alpha = 1)\n",
    "axs[2].axvline(perc[2][1], color='red', alpha = 1)\n",
    "axs[2].set_xlabel(\"Differnce in total gameplay hours per user\")\n",
    "axs[2].legend(('2.5%', '97.5%'))\n",
    "\n",
    "axs[3].hist(OP_bootstrap, bins = 100, color = 'red')\n",
    "axs[3].set_title(f\"Dota 2 users players {-100*means[3]}% less of their library than non-Dota 2 users\", fontsize = 15)\n",
    "axs[3].axvline(perc[3][0], color='cyan', alpha = 1)\n",
    "axs[3].axvline(perc[3][1], color='blue', alpha = 1)\n",
    "axs[3].set_xlabel(\"Diffence in the ratio of games played to games owned\")\n",
    "axs[3].legend(('97.5%','2.5%'))\n"
   ]
  },
  {
   "cell_type": "code",
   "execution_count": null,
   "metadata": {},
   "outputs": [],
   "source": []
  },
  {
   "cell_type": "code",
   "execution_count": null,
   "metadata": {},
   "outputs": [],
   "source": []
  }
 ],
 "metadata": {
  "kernelspec": {
   "display_name": "Python 3",
   "language": "python",
   "name": "python3"
  },
  "language_info": {
   "codemirror_mode": {
    "name": "ipython",
    "version": 3
   },
   "file_extension": ".py",
   "mimetype": "text/x-python",
   "name": "python",
   "nbconvert_exporter": "python",
   "pygments_lexer": "ipython3",
   "version": "3.8.3"
  }
 },
 "nbformat": 4,
 "nbformat_minor": 4
}
